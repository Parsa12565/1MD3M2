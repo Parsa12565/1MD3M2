{
 "cells": [
  {
   "cell_type": "markdown",
   "metadata": {},
   "source": [
    "## COMPSCI 1MD3 - Fall 2020\n",
    "### Instructor : Nicholas Moore\n",
    "\n",
    "## Maximum Grade: 25/22\n",
    "\n",
    "### Special Instructions - Please read\n",
    "\n",
    "* DO NOT RENAME THE ASSIGNMENT FILE (otherwise it might not be submitted or graded).\n",
    "* DO NOT USE FUNCTION NAMES OTHER THAN THOSE PROVIDED IN THE QUESTION (or you will get zero for the question).\n",
    "* DO NOT CHANGE THE THE NUMBER OF FUNCTION ARGUMENTS, USE THEM AS PROVIDED.\n",
    "* Validate your notebook before submitting\n",
    "* You must Submit the assignment from the assignments tab before the deadline.  Late submissions will not be accepted.  The only proof that your work was completed before the deadline is an on-time submission.\n",
    "* If you are having trouble with the server not responding, you are probably trying to execute and infinite loop.  To remedy this:\n",
    "    * click the stop button on the tool bar (proportional response), or\n",
    "    * go to \\\"Control Panel\\\" >> \\\"Stop My Server\\\" >> \\\"Start My Server\\\" (nuclear option).  Note that you will lose any unsaved work with this one.\n",
    " \n",
    "This test became available at 9:00am EST, Saturday October 31th, and must be submitted by 9:00am EST, Sunday November 1st.\n",
    "\n",
    "THERE IS NO GRACE PERIOD FOR TEST SUBMISSIONS.  YOU MUST SUBMIT BY THIS TIME OR YOU WILL GET ZERO.\n",
    "\n",
    "This is an open-book test, which means you are permitted to use reference material, such as wikipedia and the python documentation at python.org\n",
    "\n",
    "This is NOT a collaborative assessment.  These tests will be evaluated for plagiarism, and offenders will certainly be prosecuted.  Remember: never share your password, and never share your code! People who share their code are just as guilty of plagiarism as those who use it. \n",
    "\n",
    "If you have questions for myself or the TAs, please submit them to the Piazza.  Please do not share your solutions on Piazza (or any other website).  \n",
    "\n",
    "Good luck!  "
   ]
  },
  {
   "cell_type": "code",
   "execution_count": null,
   "metadata": {
    "deletable": false,
    "editable": false,
    "nbgrader": {
     "cell_type": "code",
     "checksum": "fd2eec517fe194de2882f36f2fd8deb5",
     "grade": true,
     "grade_id": "cell-f9e2ddecdc977a32",
     "locked": true,
     "points": 0,
     "schema_version": 3,
     "solution": false,
     "task": false
    }
   },
   "outputs": [],
   "source": []
  },
  {
   "cell_type": "markdown",
   "metadata": {
    "deletable": false,
    "editable": false,
    "nbgrader": {
     "cell_type": "markdown",
     "checksum": "fcf6bf3227518e8866031b39301d7aa9",
     "grade": false,
     "grade_id": "cell-4188d5ece013911a",
     "locked": true,
     "schema_version": 3,
     "solution": false,
     "task": false
    }
   },
   "source": [
    "## Question 1: Loan History (4 points)\n",
    "It's a cold, harsh world out there. High interest, OSAP loans, loan sharks, oh my! The citizens of Muniville decided one day to create a new loan system: a universal loan history book. Each day, the names of citizens requesting loans are stored in a list.  \n",
    "\n",
    "Write a python function `grantLoan(borrower_name, day, loan_history)` which, given the name of a borrower, the day on which they wish to take a loan, and an arbitrarily large universal loan history book, return `True` if the borrower's loan should be granted, `False` otherwise. A loan may only be granted if the person has not had a loan granted in the last five days.  \n",
    "\n",
    "The format of the loan book is a dictionary which uses days since the loan book's creation (integers) as keys and lists of names as values. For example, a loan book with one entry for John Snow requesting a loan on the first day of the financial system of Muniville's existence would be formatted as ```{1: [\"John Snow\"]}```. If no loans were requested on any particular day, there will be no entry for it in the dictionary.  "
   ]
  },
  {
   "cell_type": "code",
   "execution_count": 103,
   "metadata": {
    "deletable": false,
    "nbgrader": {
     "cell_type": "code",
     "checksum": "9072a3c270d64d0f1fd8c4468afd7880",
     "grade": false,
     "grade_id": "cell-cd46a608a5c27e99",
     "locked": false,
     "schema_version": 3,
     "solution": true,
     "task": false
    }
   },
   "outputs": [],
   "source": [
    "def grantLoan(borrower_name, day, loan_history):\n",
    "    for i in range(day-5):\n",
    "        if((i+day-5) in loan_history and borrower_name in loan_history[i+day-5]):\n",
    "            return False\n",
    "    return True\n"
   ]
  },
  {
   "cell_type": "code",
   "execution_count": 104,
   "metadata": {},
   "outputs": [
    {
     "name": "stdout",
     "output_type": "stream",
     "text": [
      "Test Case :  True\n",
      "{1: ['Rich Dude', 'Ana Han', 'Kiana', 'Bob Willis'], 2: ['Nicki Minaj', 'Ana Han', 'Bob Willis', 'Rich Dude', 'William McMaster'], 3: ['Namename here', 'Nick Moore', 'John Snow', 'Bob Willis', 'Mark Hutchinson']}\n"
     ]
    },
    {
     "data": {
      "text/plain": [
       "{1: ['Rich Dude', 'Ana Han', 'Kiana', 'Bob Willis'],\n",
       " 2: ['Nicki Minaj', 'Ana Han', 'Bob Willis', 'Rich Dude', 'William McMaster'],\n",
       " 3: ['Namename here',\n",
       "  'Nick Moore',\n",
       "  'John Snow',\n",
       "  'Bob Willis',\n",
       "  'Mark Hutchinson']}"
      ]
     },
     "execution_count": 104,
     "metadata": {},
     "output_type": "execute_result"
    }
   ],
   "source": [
    "book = {7: [\"Not Ross\"], 8: ['Bob Ross'], 9: ['Hannah An', 'Somename Here'], 10: ['Hoohoo Haha'], 11: ['Nicki Minaj', 'Nishant Garg'], 12: ['John Snow']}\n",
    "print(\"Test Case : \", grantLoan(\"Bob Ross\", 12, book) == False)\n",
    "\n",
    "## HELPER FUNCTION TO CREATE TEST CASES...WHERE DOES THIS GO??\n",
    "import random\n",
    "def loanbook(n, days_of_history):\n",
    "    random.seed(n)\n",
    "    names = [\"Kiana\", \"Hoohoo Haha\", \"John Snow\", \"Namename here\", \"Bob Willis\", \"William McMaster\", \"Ana Han\", \"Nicki Minaj\",\"Nick Moore\", \"Nishant Garg\", \"Mark Hutchinson\", \"Somename Here\", \"Rich Dude\"]\n",
    "    loan_history = {}\n",
    "    for i in range(1, days_of_history+1):\n",
    "        number_of_requests = random.randint(1, 6)\n",
    "        loan_history[i] = random.sample(names, k=number_of_requests)\n",
    "    print(loan_history)\n",
    "    return loan_history\n",
    "loanbook(0, 3)"
   ]
  },
  {
   "cell_type": "code",
   "execution_count": null,
   "metadata": {
    "deletable": false,
    "editable": false,
    "nbgrader": {
     "cell_type": "code",
     "checksum": "ad51a3e46340bf008d43c7cf08eae721",
     "grade": true,
     "grade_id": "cell-1d7637c7c19a698f",
     "locked": true,
     "points": 1,
     "schema_version": 3,
     "solution": false,
     "task": false
    }
   },
   "outputs": [],
   "source": []
  },
  {
   "cell_type": "code",
   "execution_count": null,
   "metadata": {
    "deletable": false,
    "editable": false,
    "nbgrader": {
     "cell_type": "code",
     "checksum": "c52036cc32d5a674e374d3a7cdf95d98",
     "grade": true,
     "grade_id": "cell-d19cd70d9e97d696",
     "locked": true,
     "points": 1,
     "schema_version": 3,
     "solution": false,
     "task": false
    }
   },
   "outputs": [],
   "source": []
  },
  {
   "cell_type": "code",
   "execution_count": null,
   "metadata": {
    "deletable": false,
    "editable": false,
    "nbgrader": {
     "cell_type": "code",
     "checksum": "406a06bebbe6fa820eb051100b3f98e3",
     "grade": true,
     "grade_id": "cell-e0e3873faf8b0222",
     "locked": true,
     "points": 1,
     "schema_version": 3,
     "solution": false,
     "task": false
    }
   },
   "outputs": [],
   "source": []
  },
  {
   "cell_type": "code",
   "execution_count": null,
   "metadata": {
    "deletable": false,
    "editable": false,
    "nbgrader": {
     "cell_type": "code",
     "checksum": "933436c15a475251c0868eba1da271cd",
     "grade": true,
     "grade_id": "cell-5071aa5e2e4d8e7c",
     "locked": true,
     "points": 1,
     "schema_version": 3,
     "solution": false,
     "task": false
    }
   },
   "outputs": [],
   "source": []
  },
  {
   "cell_type": "markdown",
   "metadata": {},
   "source": [
    "## Question 2: Recursive Greatest Common Divisor (4 points)\n",
    "\n",
    "The greatest common divisor of two numbers `x` and `y` is defined as the largest number that evenly divides both `x` and `y`.  Write a function `gcd(x,y)` which implements the following recursive algorithm:\n",
    "\n",
    "The iterative case: Take the remainder of the first argument integer divided by the second, and provide it as the second argument to the recursive call.  The second argument is provided to the recursive call as the first argument.  \n",
    "\n",
    "The base case: If the second argument is equal to zero, this means that in the previous iteration, the first argument was divided by the second evenly, meaning that second argument is the greatet common divisor.  Return this value.  \n",
    "\n",
    "So, that's easy enough, so let's make it a bit more complicated.  Rather than having your function return the greatest common divisor itself, have your function return the number of recursive calls were required to find the solution, without using global variables.  "
   ]
  },
  {
   "cell_type": "code",
   "execution_count": 105,
   "metadata": {
    "deletable": false,
    "nbgrader": {
     "cell_type": "code",
     "checksum": "27d7d1b2990ffd97735c04f168be4cfc",
     "grade": false,
     "grade_id": "cell-387483e40f177c72",
     "locked": false,
     "schema_version": 3,
     "solution": true,
     "task": false
    }
   },
   "outputs": [],
   "source": [
    "def gcd(x, y):\n",
    "    if(y==0):\n",
    "        return 1\n",
    "    return 1+gcd(y,x%y)\n"
   ]
  },
  {
   "cell_type": "code",
   "execution_count": 106,
   "metadata": {},
   "outputs": [
    {
     "name": "stdout",
     "output_type": "stream",
     "text": [
      "Are the sample test cases correct?\n",
      "True\n",
      "True\n",
      "True\n"
     ]
    }
   ],
   "source": [
    "print(\"Are the sample test cases correct?\")\n",
    "print(gcd(10,24)==5)\n",
    "print(gcd(39051730,950234793)==17)\n",
    "print(gcd(7,1) == 2)"
   ]
  },
  {
   "cell_type": "code",
   "execution_count": null,
   "metadata": {
    "deletable": false,
    "editable": false,
    "nbgrader": {
     "cell_type": "code",
     "checksum": "ce8630d135d11edd0f14885fa2fe552d",
     "grade": true,
     "grade_id": "cell-434a14004f776a54",
     "locked": true,
     "points": 1,
     "schema_version": 3,
     "solution": false,
     "task": false
    }
   },
   "outputs": [],
   "source": []
  },
  {
   "cell_type": "code",
   "execution_count": null,
   "metadata": {
    "deletable": false,
    "editable": false,
    "nbgrader": {
     "cell_type": "code",
     "checksum": "0ba90478f9a42030089733b0d815fa5a",
     "grade": true,
     "grade_id": "cell-ee0e1681e530266e",
     "locked": true,
     "points": 1,
     "schema_version": 3,
     "solution": false,
     "task": false
    }
   },
   "outputs": [],
   "source": []
  },
  {
   "cell_type": "code",
   "execution_count": null,
   "metadata": {
    "deletable": false,
    "editable": false,
    "nbgrader": {
     "cell_type": "code",
     "checksum": "34913f3ae3ea22fc394042a238f3aa42",
     "grade": true,
     "grade_id": "cell-43a78cb0deed7ed8",
     "locked": true,
     "points": 2,
     "schema_version": 3,
     "solution": false,
     "task": false
    }
   },
   "outputs": [],
   "source": []
  },
  {
   "cell_type": "markdown",
   "metadata": {
    "deletable": false,
    "editable": false,
    "nbgrader": {
     "cell_type": "markdown",
     "checksum": "93d8711fa7918fb8e382479295288390",
     "grade": false,
     "grade_id": "cell-81d0e6e5fb0fb0bc",
     "locked": true,
     "schema_version": 3,
     "solution": false,
     "task": false
    }
   },
   "source": [
    "## Question 3: Magic! (6 points)\n",
    "Magic Squares are square arrays of numbers that have the interesting property that the numbers in\n",
    "each column, and in each row, all add up to the same total.\n",
    "Given a 4 × 4 2D array of integers, write a function `magic(square)` that will return ```True``` if this array forms a magic square, ```False``` otherwise."
   ]
  },
  {
   "cell_type": "code",
   "execution_count": 107,
   "metadata": {
    "deletable": false,
    "nbgrader": {
     "cell_type": "code",
     "checksum": "2940eb29602951b6327db12eb03a3fa6",
     "grade": false,
     "grade_id": "cell-5b725156c5d15740",
     "locked": false,
     "schema_version": 3,
     "solution": true,
     "task": false
    }
   },
   "outputs": [],
   "source": [
    "def magic(square):\n",
    "    total=sum(square[0])\n",
    "    for i in range(len(square)):\n",
    "        if(sum(square[i])!=total):\n",
    "            return False\n",
    "        col=0\n",
    "        for j in range(len(square)):\n",
    "            col+=square[j][i]\n",
    "        if(col!=total):\n",
    "            return False\n",
    "    return True"
   ]
  },
  {
   "cell_type": "code",
   "execution_count": 108,
   "metadata": {},
   "outputs": [
    {
     "name": "stdout",
     "output_type": "stream",
     "text": [
      "True\n",
      "True\n"
     ]
    }
   ],
   "source": [
    "square = [ [32,18,19,29]\n",
    "         , [21,27,26,24]\n",
    "         , [25,23,22,28]\n",
    "         , [20,30,31,17]\n",
    "         ]\n",
    "print(magic(square)== True)\n",
    "\n",
    "square2 = [ [1,3,3,7]\n",
    "          , [1,3,3,7]\n",
    "          , [1,3,3,7]\n",
    "          , [1,3,3,7]\n",
    "          ]\n",
    "\n",
    "print(magic(square2) == False)"
   ]
  },
  {
   "cell_type": "code",
   "execution_count": null,
   "metadata": {
    "deletable": false,
    "editable": false,
    "nbgrader": {
     "cell_type": "code",
     "checksum": "a932ac4bcbf30c836f93897fd7238e5d",
     "grade": true,
     "grade_id": "cell-814580863c543ba1",
     "locked": true,
     "points": 1,
     "schema_version": 3,
     "solution": false,
     "task": false
    }
   },
   "outputs": [],
   "source": []
  },
  {
   "cell_type": "code",
   "execution_count": null,
   "metadata": {
    "deletable": false,
    "editable": false,
    "nbgrader": {
     "cell_type": "code",
     "checksum": "3c0efcee5a002447491e904477e62f42",
     "grade": true,
     "grade_id": "cell-3ba49589e6da7bf6",
     "locked": true,
     "points": 1,
     "schema_version": 3,
     "solution": false,
     "task": false
    }
   },
   "outputs": [],
   "source": []
  },
  {
   "cell_type": "code",
   "execution_count": null,
   "metadata": {
    "deletable": false,
    "editable": false,
    "nbgrader": {
     "cell_type": "code",
     "checksum": "63adc42d408bf306fa785a41294ce88c",
     "grade": true,
     "grade_id": "cell-b35a395c8ab52472",
     "locked": true,
     "points": 1,
     "schema_version": 3,
     "solution": false,
     "task": false
    }
   },
   "outputs": [],
   "source": []
  },
  {
   "cell_type": "code",
   "execution_count": null,
   "metadata": {
    "deletable": false,
    "editable": false,
    "nbgrader": {
     "cell_type": "code",
     "checksum": "3813d1438ed1748e20259dc3c364eea3",
     "grade": true,
     "grade_id": "cell-e0a9de503bbb56ec",
     "locked": true,
     "points": 1,
     "schema_version": 3,
     "solution": false,
     "task": false
    }
   },
   "outputs": [],
   "source": []
  },
  {
   "cell_type": "code",
   "execution_count": null,
   "metadata": {
    "deletable": false,
    "editable": false,
    "nbgrader": {
     "cell_type": "code",
     "checksum": "d07c93dfaca466d167888f68143a8a50",
     "grade": true,
     "grade_id": "cell-96203ec273938598",
     "locked": true,
     "points": 1,
     "schema_version": 3,
     "solution": false,
     "task": false
    }
   },
   "outputs": [],
   "source": []
  },
  {
   "cell_type": "code",
   "execution_count": null,
   "metadata": {
    "deletable": false,
    "editable": false,
    "nbgrader": {
     "cell_type": "code",
     "checksum": "643af0414ebbc9ec573ce27d500fd122",
     "grade": true,
     "grade_id": "cell-e205c5c2249b2086",
     "locked": true,
     "points": 1,
     "schema_version": 3,
     "solution": false,
     "task": false
    }
   },
   "outputs": [],
   "source": []
  },
  {
   "cell_type": "markdown",
   "metadata": {},
   "source": [
    "## Question 4 (8 pts)\n",
    "Quicksort is a fast, recursive algorithm for sorting an orderable data collection. Given a list, we take the first element and call it the “pivot.” We then create two sublists. One contains all the elements less than or equal to the pivot. The other contains all the elements greater than the pivot. We recursively call quicksort on both sublists, and concatenate the less-than-list in front of, and the greater-than-list behind the pivot.\n",
    "\n",
    "Quicksort called on a list containing one element returns a list containing that one element, and Quicksort called on an empty list returns an empty list. \n",
    "\n",
    "Write a python function `quicksort(L)`, which, given a list of orderable values L, returns a list sorted via the recursive quicksort algorithm. \n",
    "\n",
    "NOTE: people who use return sort(L) will be disappointed with the result."
   ]
  },
  {
   "cell_type": "code",
   "execution_count": 109,
   "metadata": {
    "deletable": false,
    "nbgrader": {
     "cell_type": "code",
     "checksum": "86ff750a72e19dc68f123e5f86fbfc51",
     "grade": false,
     "grade_id": "cell-583235fc20efc728",
     "locked": false,
     "schema_version": 3,
     "solution": true,
     "task": false
    }
   },
   "outputs": [],
   "source": [
    "def quicksort(L) : \n",
    "    if(L==[] or len(L)==1):\n",
    "        return L\n",
    "    lesser=[]\n",
    "    greater=[]\n",
    "    for i in range(len(L)-1):\n",
    "        if(L[i+1]<=L[0]):\n",
    "            lesser+=[L[i+1]]\n",
    "        else:\n",
    "            greater+=[L[i+1]]\n",
    "    return quicksort(lesser)+[L[0]]+quicksort(greater)"
   ]
  },
  {
   "cell_type": "code",
   "execution_count": 110,
   "metadata": {},
   "outputs": [
    {
     "name": "stdout",
     "output_type": "stream",
     "text": [
      "True\n",
      "True\n"
     ]
    }
   ],
   "source": [
    "L = [8, 8, 0, 9, 3, 1, 7, 1, 9, 2, 4, 9, 2, 4, 2, 7, 0, 4, 7, 8]\n",
    "L_sorted = [0, 0, 1, 1, 2, 2, 2, 3, 4, 4, 4, 7, 7, 7, 8, 8, 8, 9, 9, 9]\n",
    "print(quicksort(L) == L_sorted)\n",
    "\n",
    "L = [35, 99, 99, 94, 100, 62, 46, 28, 7, 93, 29, 86, 31, 31, 71, 30, 10, 31, 81, 59, 0, 77, 41, 88, 98, 21, 96, 7, 83, 81, 18, 30, 4, 11, 95, 21, 72, 98, 27, 67, 98, 18, 2, 92, 58, 88, 9, 57, 18, 14, 89, 68, 86, 51, 22, 72, 27, 28, 21, 95, 72, 79, 88, 10, 75, 71, 96, 42, 24, 98, 48, 79, 3, 7, 96, 72, 20, 89, 38, 95, 68, 81, 17, 6, 78, 50, 31, 90, 56, 42, 5, 25, 90, 98, 99, 45, 75, 96, 60, 73]\n",
    "L_sorted = [0, 2, 3, 4, 5, 6, 7, 7, 7, 9, 10, 10, 11, 14, 17, 18, 18, 18, 20, 21, 21, 21, 22, 24, 25, 27, 27, 28, 28, 29, 30, 30, 31, 31, 31, 31, 35, 38, 41, 42, 42, 45, 46, 48, 50, 51, 56, 57, 58, 59, 60, 62, 67, 68, 68, 71, 71, 72, 72, 72, 72, 73, 75, 75, 77, 78, 79, 79, 81, 81, 81, 83, 86, 86, 88, 88, 88, 89, 89, 90, 90, 92, 93, 94, 95, 95, 95, 96, 96, 96, 96, 98, 98, 98, 98, 98, 99, 99, 99, 100]\n",
    "print(quicksort(L) == L_sorted)"
   ]
  },
  {
   "cell_type": "code",
   "execution_count": null,
   "metadata": {
    "deletable": false,
    "editable": false,
    "nbgrader": {
     "cell_type": "code",
     "checksum": "249a9ded6c77590633ebc54b2041b2cb",
     "grade": true,
     "grade_id": "cell-dd5ffa6939999214",
     "locked": true,
     "points": 2,
     "schema_version": 3,
     "solution": false,
     "task": false
    }
   },
   "outputs": [],
   "source": []
  },
  {
   "cell_type": "code",
   "execution_count": null,
   "metadata": {
    "deletable": false,
    "editable": false,
    "nbgrader": {
     "cell_type": "code",
     "checksum": "47b6e38c06d2278e3120aca3563b7ccf",
     "grade": true,
     "grade_id": "cell-c2219a9719e3812f",
     "locked": true,
     "points": 1,
     "schema_version": 3,
     "solution": false,
     "task": false
    }
   },
   "outputs": [],
   "source": []
  },
  {
   "cell_type": "code",
   "execution_count": null,
   "metadata": {
    "deletable": false,
    "editable": false,
    "nbgrader": {
     "cell_type": "code",
     "checksum": "6b5083315a1872e801961fa8b88f9c8c",
     "grade": true,
     "grade_id": "cell-33c09370740e6931",
     "locked": true,
     "points": 1,
     "schema_version": 3,
     "solution": false,
     "task": false
    }
   },
   "outputs": [],
   "source": []
  },
  {
   "cell_type": "code",
   "execution_count": null,
   "metadata": {
    "deletable": false,
    "editable": false,
    "nbgrader": {
     "cell_type": "code",
     "checksum": "d9585b337862883b503d0d2b05d803ba",
     "grade": true,
     "grade_id": "cell-782b54dde48c9b56",
     "locked": true,
     "points": 2,
     "schema_version": 3,
     "solution": false,
     "task": false
    }
   },
   "outputs": [],
   "source": []
  },
  {
   "cell_type": "code",
   "execution_count": null,
   "metadata": {
    "deletable": false,
    "editable": false,
    "nbgrader": {
     "cell_type": "code",
     "checksum": "0a4c1943e6cc0cfcc20a2dd2b8e11895",
     "grade": true,
     "grade_id": "cell-0159a98716761bae",
     "locked": true,
     "points": 2,
     "schema_version": 3,
     "solution": false,
     "task": false
    }
   },
   "outputs": [],
   "source": []
  },
  {
   "cell_type": "markdown",
   "metadata": {},
   "source": [
    "## Bonus Question: Onions (3 pts)\n",
    "\n",
    "Shrek is an ogre. Ogres have layers, just like onions. Onions are symmetrical. You know what else is symmetrical? Palindromes!\n",
    "\n",
    "Define a function ```onions()``` which will take an arbitrarily long string `s`, and return the length of the longest palindrome within it. For example, the longest palindrome in the string <i>\"shrekisanogreeeershavelayers\"</i> is <i>\"reeeer\"</i>, which will correspond to the integer 6 being returned. You may find it helpful to define a helper function ```isPalindrome(s)```, to be called within the function ```onions()```"
   ]
  },
  {
   "cell_type": "code",
   "execution_count": 111,
   "metadata": {
    "deletable": false,
    "nbgrader": {
     "cell_type": "code",
     "checksum": "f64305a14a1f89bea3b8ad6bee789341",
     "grade": false,
     "grade_id": "cell-e2a9242b78cf53c0",
     "locked": false,
     "schema_version": 3,
     "solution": true,
     "task": false
    }
   },
   "outputs": [],
   "source": [
    "def onions(s):\n",
    "    l=0\n",
    "    for i in range(len(s)-1):\n",
    "        for j in range(len(s)-i):\n",
    "            if(i>l and isPalindrome(s[j:j+i+1])):\n",
    "                l=len(s[j:j+i+1])\n",
    "    return l\n",
    "def isPalindrome(s):\n",
    "    if(s==s[::-1]):\n",
    "        return True\n",
    "    return False"
   ]
  },
  {
   "cell_type": "code",
   "execution_count": 112,
   "metadata": {},
   "outputs": [
    {
     "name": "stdout",
     "output_type": "stream",
     "text": [
      "You should find that aabbaa is the longest palindrome within aaaabbaa\n"
     ]
    }
   ],
   "source": [
    "assert(onions(\"aaaabbaa\")==6)\n",
    "print(\"You should find that aabbaa is the longest palindrome within aaaabbaa\")"
   ]
  },
  {
   "cell_type": "code",
   "execution_count": null,
   "metadata": {
    "deletable": false,
    "editable": false,
    "nbgrader": {
     "cell_type": "code",
     "checksum": "04347dbf8b6a0c1037d08dfbaf6e0d7f",
     "grade": true,
     "grade_id": "cell-30f5950b95dc2ff8",
     "locked": true,
     "points": 1,
     "schema_version": 3,
     "solution": false,
     "task": false
    }
   },
   "outputs": [],
   "source": []
  },
  {
   "cell_type": "code",
   "execution_count": null,
   "metadata": {
    "deletable": false,
    "editable": false,
    "nbgrader": {
     "cell_type": "code",
     "checksum": "2c0f69b99b129af9b981d0ebcdf580e0",
     "grade": true,
     "grade_id": "cell-87964c84d5d49595",
     "locked": true,
     "points": 1,
     "schema_version": 3,
     "solution": false,
     "task": false
    }
   },
   "outputs": [],
   "source": []
  },
  {
   "cell_type": "code",
   "execution_count": null,
   "metadata": {
    "deletable": false,
    "editable": false,
    "nbgrader": {
     "cell_type": "code",
     "checksum": "c6f6bb18f66ea5eb7c1fb8aeeee7cdd4",
     "grade": true,
     "grade_id": "cell-a560a5b010cd7d91",
     "locked": true,
     "points": 1,
     "schema_version": 3,
     "solution": false,
     "task": false
    }
   },
   "outputs": [],
   "source": []
  }
 ],
 "metadata": {
  "kernelspec": {
   "display_name": "Python 3",
   "language": "python",
   "name": "python3"
  },
  "language_info": {
   "codemirror_mode": {
    "name": "ipython",
    "version": 3
   },
   "file_extension": ".py",
   "mimetype": "text/x-python",
   "name": "python",
   "nbconvert_exporter": "python",
   "pygments_lexer": "ipython3",
   "version": "3.8.5"
  }
 },
 "nbformat": 4,
 "nbformat_minor": 4
}
